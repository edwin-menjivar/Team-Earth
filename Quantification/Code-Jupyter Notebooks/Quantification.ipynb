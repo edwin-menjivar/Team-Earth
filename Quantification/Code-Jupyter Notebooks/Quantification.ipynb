{
 "cells": [
  {
   "cell_type": "code",
   "execution_count": 1,
   "id": "3b4b156d",
   "metadata": {},
   "outputs": [],
   "source": [
    "import SimpleITK as sitk\n",
    "import numpy as np\n",
    "import os\n",
    "import nibabel as nib"
   ]
  },
  {
   "cell_type": "code",
   "execution_count": 3,
   "id": "49511dbe",
   "metadata": {},
   "outputs": [
    {
     "name": "stdout",
     "output_type": "stream",
     "text": [
      "Total lung:  5065.439931783557 cm³\n",
      "Manual segmentation:  49.838237554192546 cm³\n",
      "Algorithmic segmentation:  7.805810321927071 cm³\n"
     ]
    }
   ],
   "source": [
    "#Finding volume of entire lung\n",
    "path = \"/Users/sedricconneally/Desktop/output_masks_updated/601.000000-COR-3X3-53956.nii\"\n",
    "\n",
    "img = nib.load(path)\n",
    "voxel_volume = np.prod(img.header['pixdim'][1:4])\n",
    "voxel_count = np.count_nonzero(img.get_fdata())\n",
    "print(\"Total lung: \", voxel_volume*voxel_count/1000, \"cm³\")\n",
    "\n",
    "#Finding the volume of the manual segmentation\n",
    "path2 = \"/Users/sedricconneally/Desktop/justins segmentation/601.000000-COR 3X3-53956_COVID_Segmentation.nii.gz\"\n",
    "\n",
    "img = nib.load(path2)\n",
    "voxel_volume = np.prod(img.header['pixdim'][1:4])\n",
    "voxel_count = np.count_nonzero(img.get_fdata())\n",
    "print(\"Manual segmentation: \", voxel_volume*voxel_count/1000, \"cm³\")\n",
    "\n",
    "#Finding the volume of the algorithmic segmentation\n",
    "path3 = \"/Users/sedricconneally/Desktop/edwins segmentation/601.000000-COR-3X3-53956.nii\"\n",
    "\n",
    "img = nib.load(path3)\n",
    "voxel_volume = np.prod(img.header['pixdim'][1:4])\n",
    "voxel_count = np.count_nonzero(img.get_fdata())\n",
    "print(\"Algorithmic segmentation: \", voxel_volume*voxel_count/1000, \"cm³\")\n"
   ]
  },
  {
   "cell_type": "code",
   "execution_count": 4,
   "id": "422e2376",
   "metadata": {},
   "outputs": [],
   "source": [
    "#Load manual and algorithmic covid segmentations\n",
    "algorithmic_segmentation = nib.load(path3)\n",
    "manual_segmentation = nib.load(path2)\n",
    "test_img = algorithmic_segmentation.get_fdata()\n",
    "truth_img = manual_segmentation.get_fdata()"
   ]
  },
  {
   "cell_type": "code",
   "execution_count": 5,
   "id": "719447e8",
   "metadata": {},
   "outputs": [],
   "source": [
    "#Make sure images are the same size\n",
    "assert test_img.shape == truth_img.shape\n",
    "assert test_img.dtype == truth_img.dtype\n",
    "#Convert both images to boolean type\n",
    "test_img = test_img.astype(bool)\n",
    "truth_img = truth_img.astype(bool)"
   ]
  },
  {
   "cell_type": "code",
   "execution_count": 6,
   "id": "9c8c8f98",
   "metadata": {},
   "outputs": [
    {
     "name": "stdout",
     "output_type": "stream",
     "text": [
      "Jaccard index:  0.07560746111695356\n"
     ]
    }
   ],
   "source": [
    "#Calculate intersection using numpy\n",
    "intersection = np.logical_and(test_img, truth_img)\n",
    "#Calculate union uning numpy\n",
    "union = np.logical_or(test_img, truth_img)\n",
    "#Calculate Jaccard Index using the intersection and union\n",
    "jaccard = intersection.sum() / float(union.sum())\n",
    "print(\"Jaccard index: \", jaccard)"
   ]
  }
 ],
 "metadata": {
  "kernelspec": {
   "display_name": "Python 3",
   "language": "python",
   "name": "python3"
  },
  "language_info": {
   "codemirror_mode": {
    "name": "ipython",
    "version": 3
   },
   "file_extension": ".py",
   "mimetype": "text/x-python",
   "name": "python",
   "nbconvert_exporter": "python",
   "pygments_lexer": "ipython3",
   "version": "3.8.8"
  }
 },
 "nbformat": 4,
 "nbformat_minor": 5
}
