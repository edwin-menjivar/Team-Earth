{
 "cells": [
  {
   "cell_type": "code",
   "execution_count": 1,
   "id": "3b4b156d",
   "metadata": {},
   "outputs": [],
   "source": [
    "import numpy as np\n",
    "import nibabel as nib"
   ]
  },
  {
   "cell_type": "code",
   "execution_count": 2,
   "id": "49511dbe",
   "metadata": {},
   "outputs": [
    {
     "name": "stdout",
     "output_type": "stream",
     "text": [
      "Total lung:  5065.439931783557 cm³\n",
      "Manual segmentation:  49.838237554192546 cm³\n",
      "Algorithmic segmentation:  7.805810321927071 cm³\n",
      "Semi-automatic segmentation:  0.0 cm³\n"
     ]
    }
   ],
   "source": [
    "#Finding volume of entire lung\n",
    "path = \"/Users/sedricconneally/Desktop/output_masks_updated/601.000000-COR-3X3-53956.nii\"\n",
    "\n",
    "img = nib.load(path)\n",
    "voxel_volume = np.prod(img.header['pixdim'][1:4])\n",
    "voxel_count = np.count_nonzero(img.get_fdata())\n",
    "print(\"Total lung: \", voxel_volume*voxel_count/1000, \"cm³\")\n",
    "\n",
    "#Finding the volume of the manual segmentation\n",
    "path2 = \"/Users/sedricconneally/Desktop/justins segmentation/601.000000-COR 3X3-53956_COVID_Segmentation.nii.gz\"\n",
    "\n",
    "img = nib.load(path2)\n",
    "voxel_volume = np.prod(img.header['pixdim'][1:4])\n",
    "voxel_count = np.count_nonzero(img.get_fdata())\n",
    "print(\"Manual segmentation: \", voxel_volume*voxel_count/1000, \"cm³\")\n",
    "\n",
    "#Finding the volume of the algorithmic segmentation\n",
    "path3 = \"/Users/sedricconneally/Desktop/edwins segmentation/601.000000-COR-3X3-53956.nii\"\n",
    "\n",
    "img = nib.load(path3)\n",
    "voxel_volume = np.prod(img.header['pixdim'][1:4])\n",
    "voxel_count = np.count_nonzero(img.get_fdata())\n",
    "print(\"Algorithmic segmentation: \", voxel_volume*voxel_count/1000, \"cm³\")\n",
    "\n",
    "#Finding the volume of the semi-automatic segmentation\n",
    "path4 = \"/Users/sedricconneally/Desktop/semi_auto_covid_seg_mask/601.000000-COR 3X3-53956.nii\"\n",
    "\n",
    "img = nib.load(path4)\n",
    "voxel_volume = np.prod(img.header['pixdim'][1:4])\n",
    "voxel_count = np.count_nonzero(img.get_fdata())\n",
    "print(\"Semi-automatic segmentation: \", voxel_volume*voxel_count/1000, \"cm³\")\n"
   ]
  },
  {
   "cell_type": "code",
   "execution_count": 3,
   "id": "422e2376",
   "metadata": {},
   "outputs": [],
   "source": [
    "#Load manual, algorithmic, and semi-automatic covid segmentations\n",
    "algorithmic_segmentation = nib.load(path3)\n",
    "manual_segmentation = nib.load(path2)\n",
    "semi_auto_segmentation = nib.load(path4)\n",
    "test_img = algorithmic_segmentation.get_fdata()\n",
    "truth_img = manual_segmentation.get_fdata()\n",
    "test_img2 = semi_auto_segmentation.get_fdata()"
   ]
  },
  {
   "cell_type": "code",
   "execution_count": 4,
   "id": "719447e8",
   "metadata": {},
   "outputs": [],
   "source": [
    "#Make sure images are the same size\n",
    "assert test_img.shape == truth_img.shape\n",
    "assert test_img.dtype == truth_img.dtype\n",
    "assert test_img2.shape == truth_img.shape\n",
    "assert test_img2.dtype == truth_img.dtype\n",
    "#Convert all images to boolean type\n",
    "test_img = test_img.astype(bool)\n",
    "truth_img = truth_img.astype(bool)\n",
    "test_img2 = test_img2.astype(bool)"
   ]
  },
  {
   "cell_type": "code",
   "execution_count": 5,
   "id": "9c8c8f98",
   "metadata": {},
   "outputs": [
    {
     "name": "stdout",
     "output_type": "stream",
     "text": [
      "Jaccard index(manual and algorithmic):  0.07560746111695356\n",
      "Jaccard index(manual and semi-automatic):  0.0\n"
     ]
    }
   ],
   "source": [
    "#Calculate Jaccard index for manual and algorithmic segmentation\n",
    "#Calculate intersection using numpy\n",
    "intersection = np.logical_and(test_img, truth_img)\n",
    "#Calculate union uning numpy\n",
    "union = np.logical_or(test_img, truth_img)\n",
    "#Calculate Jaccard index using the intersection and union calculated above\n",
    "jaccard = intersection.sum() / float(union.sum())\n",
    "print(\"Jaccard index(manual and algorithmic): \", jaccard)\n",
    "\n",
    "#Calculate Jaccard index for manual and semi-automatic segmentation\n",
    "#Calculate intersection using numpy\n",
    "intersection = np.logical_and(test_img2, truth_img)\n",
    "#Calculate union uning numpy\n",
    "union = np.logical_or(test_img2, truth_img)\n",
    "#Calculate Jaccard index using the intersection and union calculated above\n",
    "jaccard = intersection.sum() / float(union.sum())\n",
    "print(\"Jaccard index(manual and semi-automatic): \", jaccard)"
   ]
  }
 ],
 "metadata": {
  "kernelspec": {
   "display_name": "Python 3",
   "language": "python",
   "name": "python3"
  },
  "language_info": {
   "codemirror_mode": {
    "name": "ipython",
    "version": 3
   },
   "file_extension": ".py",
   "mimetype": "text/x-python",
   "name": "python",
   "nbconvert_exporter": "python",
   "pygments_lexer": "ipython3",
   "version": "3.8.8"
  }
 },
 "nbformat": 4,
 "nbformat_minor": 5
}
