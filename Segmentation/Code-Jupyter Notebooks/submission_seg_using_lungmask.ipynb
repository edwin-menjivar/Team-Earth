{
 "cells": [
  {
   "cell_type": "markdown",
   "id": "29c6da05",
   "metadata": {},
   "source": [
    "# Segmentation using Lungmask library\n",
    "Uses https://github.com/JoHof/lungmask\n",
    "    \n",
    "Uses material from https://github.com/SimpleITK/SimpleITK\n",
    "\n",
    "input: 3D CT scan image of the lung (raw image)\n",
    "output: 3D segmented lung image"
   ]
  },
  {
   "cell_type": "code",
   "execution_count": 1,
   "id": "943ccc2e",
   "metadata": {},
   "outputs": [],
   "source": [
    "import numpy as np\n",
    "import pandas as pd\n",
    "import os\n",
    "import scipy.ndimage as ndimage\n",
    "from lungmask import mask\n",
    "import SimpleITK as sitk\n",
    "from myshow import myshow, myshow3d\n"
   ]
  },
  {
   "cell_type": "code",
   "execution_count": 2,
   "id": "814e4723",
   "metadata": {},
   "outputs": [],
   "source": [
    "input_path = \"./submission_data/nifti_input_data/2.000000-ROUTINE-CHEST-NON-CON-70218.nii\"\n",
    "output_path = \"./submission_data/output_masks_updated/2.000000-ROUTINE CHEST NON-CON-70218.nii\""
   ]
  },
  {
   "cell_type": "code",
   "execution_count": 3,
   "id": "8234d003",
   "metadata": {},
   "outputs": [],
   "source": [
    "# Registration files\n",
    "# /manifest-1608266677008/MIDRC-RICORD-1A/MIDRC-RICORD-1A-SITE2-000245/01-15-2002-NA-NA-80471/2.000000-NA-58989\n",
    "# /manifest-1608266677008/MIDRC-RICORD-1A/MIDRC-RICORD-1A-SITE2-000245/02-12-2002-NA-NA-23720/5.000000-NA-71388\n",
    "# input_path = \"./submission_data/registration/nifti_files/patient1/5.000000-NA-71388.nii\"\n",
    "# output_path = \"./submission_data/registration/segmented_lungs/patient1/5.000000-NA-71388.nii\"\n",
    "# output_path_mask = \"./submission_data/registration/lung_masks/patient1/5.000000-NA-71388.nii\""
   ]
  },
  {
   "cell_type": "code",
   "execution_count": 4,
   "id": "17d9c593",
   "metadata": {},
   "outputs": [
    {
     "name": "stdout",
     "output_type": "stream",
     "text": [
      "INFO:root:No GPU support available, will use CPU. Note, that this is significantly slower!\n"
     ]
    },
    {
     "name": "stderr",
     "output_type": "stream",
     "text": [
      "100%|████████████████████████████████████████████████████████████████████████████████| 201/201 [04:31<00:00,  1.35s/it]\n",
      "100%|██████████████████████████████████████████████████████████████████████████████████| 11/11 [00:00<00:00, 62.40it/s]\n"
     ]
    }
   ],
   "source": [
    "input_image = sitk.ReadImage(input_path)\n",
    "\n",
    "segmentation = mask.apply(input_image)\n",
    "\n",
    "origin = input_image.GetOrigin()\n",
    "spacing = input_image.GetSpacing()\n",
    "direction = input_image.GetDirection()"
   ]
  },
  {
   "cell_type": "code",
   "execution_count": 5,
   "id": "e2949719",
   "metadata": {},
   "outputs": [],
   "source": [
    "output_image = sitk.GetImageFromArray(segmentation)"
   ]
  },
  {
   "cell_type": "code",
   "execution_count": 6,
   "id": "88376c83",
   "metadata": {},
   "outputs": [],
   "source": [
    "output_image = sitk.Cast(sitk.RescaleIntensity(output_image), sitk.sitkInt16)\n",
    "output_image.SetOrigin(origin)\n",
    "output_image.SetSpacing(spacing)\n",
    "output_image.SetDirection(direction)\n",
    "\n",
    "\n",
    "# sitk.WriteImage(sitk.Cast(output_image, sitk.sitkInt16), \"patient_test_1_output.nii\")\n",
    "sitk.WriteImage(output_image, output_path)"
   ]
  },
  {
   "cell_type": "code",
   "execution_count": 7,
   "id": "046e354c",
   "metadata": {},
   "outputs": [],
   "source": [
    "# My own implementation\n",
    "input_image_array = sitk.GetArrayFromImage(input_image)\n",
    "mask = (segmentation != 0).astype(np.uint8)\n",
    "mask = sitk.GetImageFromArray(mask)\n",
    "mask.CopyInformation(input_image)\n",
    "\n",
    "masking_value=0\n",
    "outside_value=-1500\n",
    "mf = sitk.MaskImageFilter()\n",
    "mf.SetMaskingValue(masking_value)\n",
    "mf.SetOutsideValue(outside_value)\n",
    "output_image_from_mask =  mf.Execute(input_image, mask)"
   ]
  },
  {
   "cell_type": "code",
   "execution_count": 8,
   "id": "44a0e9bb",
   "metadata": {
    "scrolled": true
   },
   "outputs": [
    {
     "data": {
      "application/vnd.jupyter.widget-view+json": {
       "model_id": "b749a7b9d69749a0b97f46d49572b55e",
       "version_major": 2,
       "version_minor": 0
      },
      "text/plain": [
       "interactive(children=(IntSlider(value=100, description='z', max=200), Output()), _dom_classes=('widget-interac…"
      ]
     },
     "metadata": {},
     "output_type": "display_data"
    }
   ],
   "source": [
    "myshow(output_image_from_mask, \"Segmented Lungs\")\n",
    "sitk.WriteImage(output_image_from_mask, output_path)"
   ]
  }
 ],
 "metadata": {
  "kernelspec": {
   "display_name": "Python 3 (ipykernel)",
   "language": "python",
   "name": "python3"
  },
  "language_info": {
   "codemirror_mode": {
    "name": "ipython",
    "version": 3
   },
   "file_extension": ".py",
   "mimetype": "text/x-python",
   "name": "python",
   "nbconvert_exporter": "python",
   "pygments_lexer": "ipython3",
   "version": "3.8.13"
  }
 },
 "nbformat": 4,
 "nbformat_minor": 5
}
