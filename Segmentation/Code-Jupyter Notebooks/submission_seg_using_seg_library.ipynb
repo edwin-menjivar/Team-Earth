{
 "cells": [
  {
   "cell_type": "markdown",
   "id": "66778d9e",
   "metadata": {},
   "source": [
    "# Segment covid 19 from the lungs\n",
    "Uses https://github.com/RiccardoBiondi/segmentation\n",
    "\n",
    "Uses material from https://github.com/SimpleITK/SimpleITK\n",
    "\n",
    "Input: segmented lung 3D image\n",
    "\n",
    "Output: covid 19 segmentation mask"
   ]
  },
  {
   "cell_type": "code",
   "execution_count": 1,
   "id": "943ccc2e",
   "metadata": {},
   "outputs": [],
   "source": [
    "import numpy as np\n",
    "import pandas as pd\n",
    "import os\n",
    "import SimpleITK as sitk\n",
    "from myshow import myshow, myshow3d"
   ]
  },
  {
   "cell_type": "code",
   "execution_count": 2,
   "id": "36992943",
   "metadata": {},
   "outputs": [],
   "source": [
    "input_path = \"./output_data/patient_test_5_output_image_from_mask.nii\"\n",
    "output_path = \"./output_data_covid_segmentation/patient_test_5_output_image_from_mask_covid_show.nii\""
   ]
  },
  {
   "cell_type": "code",
   "execution_count": 3,
   "id": "43462f84",
   "metadata": {},
   "outputs": [],
   "source": [
    "# pre-trained centroids\n",
    "centroids = {'healthy lung': [1.0291475, 1.7986686, 1.3147535, 1.6199226],\n",
    "            'lung'   :  [2.4449115, 2.8337748, 1.556249,  2.9394238],\n",
    "            'Edges' :  [3.4244044, 2.1809669, 4.172402,  3.652266],\n",
    "            'GGO'   :  [5.1485806, 5.3843336, 2.7543516, 4.812335],\n",
    "            'Noise'     : [8.233303,  1.9194404, 6.503928,  6.670035]}"
   ]
  },
  {
   "cell_type": "code",
   "execution_count": 4,
   "id": "e37cfadb",
   "metadata": {},
   "outputs": [],
   "source": [
    "def threshold(image, upper, lower, inside=1, outside=0):\n",
    "    thr = sitk.BinaryThresholdImageFilter()\n",
    "    thr.SetLowerThreshold(lower)\n",
    "    thr.SetUpperThreshold(upper)\n",
    "    thr.SetOutsideValue(outside)\n",
    "    thr.SetInsideValue(inside)\n",
    "    return thr.Execute(image)\n",
    "\n",
    "def normalize(image) :\n",
    "    stats = sitk.StatisticsImageFilter()\n",
    "    stats.Execute(image)\n",
    "    if np.isclose(stats.GetSigma(), 0) :\n",
    "        raise ZeroDivisionError('Cannot normalize image with Sigma == 0')\n",
    "    norm = sitk.NormalizeImageFilter()\n",
    "    return norm.Execute(image)\n",
    "\n",
    "def adaptive_histogram_equalization(image, radius):\n",
    "    ahe = sitk.AdaptiveHistogramEqualizationImageFilter()\n",
    "    ahe.SetAlpha(1)\n",
    "    ahe.SetBeta(1)\n",
    "    ahe.SetRadius(radius)\n",
    "    return ahe.Execute(image)\n",
    "\n",
    "def median_filter(img, radius):\n",
    "    if radius <=0 :\n",
    "        raise ValueError('Radius must be greater or equal than one')\n",
    "    median = sitk.MedianImageFilter()\n",
    "    median.SetRadius(int(radius))\n",
    "    return median.Execute(img)\n",
    "\n",
    "def std_filter(image, radius):\n",
    "    if radius <=0 :\n",
    "        raise ValueError('Radius must be greater or equal than one')\n",
    "    std = sitk.NoiseImageFilter()\n",
    "    std.SetRadius(radius)\n",
    "    return std.Execute(image)\n",
    "\n",
    "def cast_image(image, new_pixel_type):\n",
    "    caster = sitk.CastImageFilter()\n",
    "    caster.SetOutputPixelType(new_pixel_type)\n",
    "    return caster.Execute(image)\n",
    "\n",
    "def CopyInformation(self, srcImage):\n",
    "    return _SimpleITK.Image_CopyInformation(self, srcImage)\n",
    "\n",
    "def adjust_gamma(image, gamma=1.0, image_type='HU'):\n",
    "    if gamma == 0 :\n",
    "        raise Exception('gamma vlaue cannot be zero')\n",
    "    if image_type not in ['HU', 'uint8', 'uint16'] :\n",
    "        raise Exception('image type {} not supported'.format(type))\n",
    "    invGamma = 1.0 / gamma\n",
    "    # cast image to float\n",
    "    img = cast_image(image, sitk.sitkFloat32)\n",
    "    c = sitk.PowImageFilter()\n",
    "    out = c.Execute(img, invGamma)\n",
    "    # saturate out of bounds voxels\n",
    "    bound = bounding_values[image_type]\n",
    "    out = sitk.Threshold(out, bound[0], bound[1], bound[1])\n",
    "    # cast to the correct type\n",
    "    out = sitk.Cast(out, image_types[image_type])\n",
    "    return out\n",
    "\n",
    "def imlabeling(image, centroids, weight=None) :\n",
    "\n",
    "    if centroids.shape[1] != image.shape[-1] :\n",
    "        raise Exception('Number of image channel doesn t match the number of \\\n",
    "                            centroids features : {} != {}\\\n",
    "                            '.format(image.shape[-1], centroids.shape[1]))\n",
    "    if weight  is not None :\n",
    "        if weight.shape != image.shape[:-1] :\n",
    "            raise Exception('Weight shape doesn t match image one : {} != {}\\\n",
    "                                '.format( weight.shape, image.shape[:-1]))\n",
    "        distances = np.asarray([np.linalg.norm(image[weight != 0] -c, axis = 1) for c in centroids])\n",
    "        weight[weight != 0] = np.argmin(distances, axis=0)\n",
    "        return weight\n",
    "    else :\n",
    "        distances = np.asarray([np.linalg.norm(image - c, axis=3) for c in centroids])\n",
    "        labels = np.argmin(distances, axis=0)\n",
    "        return labels\n",
    "\n",
    "def shift_and_crop(image) :\n",
    "    shifted = sitk.ShiftScale(image, 1000, 1.0)\n",
    "    cropped = sitk.Threshold(shifted, 0, 2048, 0)\n",
    "    return cropped\n",
    "\n",
    "def remove_vessels(image, sigma=2., thr=8) :\n",
    "    smooth = gauss_smooth(image, sigma)\n",
    "    vessel = vesselness(smooth)\n",
    "    mask = threshold(vessel, 4000, thr, 0, 1)\n",
    "    return apply_mask(image, mask, outside_value=-1000)\n",
    "\n",
    "def gauss_smooth(image, sigma = 1.):\n",
    "    gauss = sitk.SmoothingRecursiveGaussianImageFilter()\n",
    "    gauss.SetSigma(sigma)\n",
    "    return  gauss.Execute(image)\n",
    "\n",
    "def vesselness(image):\n",
    "    vess = sitk.ObjectnessMeasureImageFilter()\n",
    "    vess.SetObjectDimension(1)\n",
    "    return vess.Execute(image)\n",
    "\n",
    "def apply_mask(image, mask, masking_value=0, outside_value=-1500):\n",
    "    mf = sitk.MaskImageFilter()\n",
    "    mf.SetMaskingValue(masking_value)\n",
    "    mf.SetOutsideValue(outside_value)\n",
    "    return mf.Execute(image, mask)\n",
    "\n",
    "def main(volume, centroids):\n",
    "    # prepare the image\n",
    "    weight = sitk.GetArrayFromImage(threshold(image=volume, upper=4000, lower=1))\n",
    "    equalized = normalize(adaptive_histogram_equalization(image=volume, radius=5))\n",
    "    median = normalize(median_filter(img=volume, radius=3))\n",
    "    std = normalize(std_filter(image=volume, radius=3))\n",
    "    gamma = normalize(adjust_gamma(image=volume, gamma=1.5))\n",
    "\n",
    "    mc = np.stack([sitk.GetArrayFromImage(equalized),\n",
    "                   sitk.GetArrayFromImage(median),\n",
    "                   sitk.GetArrayFromImage(gamma),\n",
    "                   sitk.GetArrayFromImage(std)], axis = -1)\n",
    "    \n",
    "    labels = imlabeling(image=mc, centroids=centroids, weight=weight)\n",
    "    labels = (labels == 3).astype(np.uint8)\n",
    "    labels = sitk.GetImageFromArray(labels)\n",
    "    labels.CopyInformation(volume)\n",
    "    labels = median_filter(img=labels, radius=3)\n",
    "\n",
    "    return labels\n"
   ]
  },
  {
   "cell_type": "code",
   "execution_count": 5,
   "id": "bd90d5c5",
   "metadata": {},
   "outputs": [],
   "source": [
    "bounding_values = {'uint8' : [0, 255],\n",
    "                   'uint16': [0, 2**16],\n",
    "                   'HU' : [0, 2**12]}\n",
    "image_types = {'uint8' : sitk.sitkUInt8,\n",
    "            'uint16': sitk.sitkUInt16,\n",
    "            'HU' : sitk.sitkUInt16 }"
   ]
  },
  {
   "cell_type": "code",
   "execution_count": 6,
   "id": "141b7a25",
   "metadata": {},
   "outputs": [],
   "source": [
    "volume = sitk.ReadImage(input_path) #Input from lungmask"
   ]
  },
  {
   "cell_type": "code",
   "execution_count": 7,
   "id": "814877e7",
   "metadata": {},
   "outputs": [],
   "source": [
    "volume = remove_vessels(image=volume)"
   ]
  },
  {
   "cell_type": "code",
   "execution_count": 8,
   "id": "aa504a90",
   "metadata": {},
   "outputs": [],
   "source": [
    "volume = shift_and_crop(volume)"
   ]
  },
  {
   "cell_type": "code",
   "execution_count": 9,
   "id": "36cac693",
   "metadata": {},
   "outputs": [],
   "source": [
    "centroids = np.asarray([np.array(v) for _, v in centroids.items()])\n",
    "labels = main(volume, centroids)"
   ]
  },
  {
   "cell_type": "code",
   "execution_count": 10,
   "id": "68dd892d",
   "metadata": {},
   "outputs": [
    {
     "data": {
      "application/vnd.jupyter.widget-view+json": {
       "model_id": "d20cc08f35a3423a969ae5739caeff10",
       "version_major": 2,
       "version_minor": 0
      },
      "text/plain": [
       "interactive(children=(IntSlider(value=57, description='z', max=115), Output()), _dom_classes=('widget-interact…"
      ]
     },
     "metadata": {},
     "output_type": "display_data"
    }
   ],
   "source": [
    "myshow3d(labels)"
   ]
  },
  {
   "cell_type": "code",
   "execution_count": 11,
   "id": "090c8e74",
   "metadata": {},
   "outputs": [],
   "source": [
    "sitk.WriteImage(labels, output_path)"
   ]
  }
 ],
 "metadata": {
  "kernelspec": {
   "display_name": "Python 3 (ipykernel)",
   "language": "python",
   "name": "python3"
  },
  "language_info": {
   "codemirror_mode": {
    "name": "ipython",
    "version": 3
   },
   "file_extension": ".py",
   "mimetype": "text/x-python",
   "name": "python",
   "nbconvert_exporter": "python",
   "pygments_lexer": "ipython3",
   "version": "3.8.13"
  }
 },
 "nbformat": 4,
 "nbformat_minor": 5
}
