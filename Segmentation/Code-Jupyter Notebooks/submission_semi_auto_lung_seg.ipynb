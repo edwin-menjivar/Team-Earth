{
 "cells": [
  {
   "cell_type": "markdown",
   "id": "0b731faa",
   "metadata": {},
   "source": [
    "# Segment lungs from torso\n",
    "Uses Otsu Multi Thresholding algorithm, BinaryOpeningByReconstruction, and BinaryClosingByReconstruction\n",
    "\n",
    "Uses material from https://github.com/SimpleITK/SimpleITK\n",
    "\n",
    "Input: segmented lung 3D image\n",
    "\n",
    "Output: covid 19 segmentation mask"
   ]
  },
  {
   "cell_type": "code",
   "execution_count": 1,
   "id": "0c4e7b9a",
   "metadata": {},
   "outputs": [],
   "source": [
    "%matplotlib inline\n",
    "import matplotlib.pyplot as plt\n",
    "from ipywidgets import interact, FloatSlider\n",
    "\n",
    "import SimpleITK as sitk\n",
    "from myshow import myshow, myshow3d\n",
    "import nibabel as nib\n",
    "import numpy as np"
   ]
  },
  {
   "cell_type": "code",
   "execution_count": 2,
   "id": "3fa00a86",
   "metadata": {},
   "outputs": [
    {
     "data": {
      "application/vnd.jupyter.widget-view+json": {
       "model_id": "3aa751d82cae47048cd8da81dbfa6dc3",
       "version_major": 2,
       "version_minor": 0
      },
      "text/plain": [
       "interactive(children=(IntSlider(value=100, description='z', max=200), Output()), _dom_classes=('widget-interac…"
      ]
     },
     "metadata": {},
     "output_type": "display_data"
    }
   ],
   "source": [
    "img_T1 = sitk.ReadImage(\"./patient_nifti_data/2.000000-ROUTINE CHEST NON-CON-70218.nii\")\n",
    "output_path = \"./semi_auto_output_data/lung_seg_mask/2.000000-ROUTINE CHEST NON-CON-70218.nii\"\n",
    "\n",
    "img_T1_255 = sitk.Cast(sitk.RescaleIntensity(img_T1), sitk.sitkUInt8)\n",
    "\n",
    "myshow3d(img_T1)"
   ]
  },
  {
   "cell_type": "code",
   "execution_count": 3,
   "id": "7757144c",
   "metadata": {},
   "outputs": [
    {
     "data": {
      "application/vnd.jupyter.widget-view+json": {
       "model_id": "c13cf9c57df446468525d31b3b05005d",
       "version_major": 2,
       "version_minor": 0
      },
      "text/plain": [
       "interactive(children=(IntSlider(value=100, description='z', max=200), Output()), _dom_classes=('widget-interac…"
      ]
     },
     "metadata": {},
     "output_type": "display_data"
    },
    {
     "data": {
      "application/vnd.jupyter.widget-view+json": {
       "model_id": "490e969917994472aa7b53bd56a814ab",
       "version_major": 2,
       "version_minor": 0
      },
      "text/plain": [
       "interactive(children=(IntSlider(value=100, description='z', max=200), Output()), _dom_classes=('widget-interac…"
      ]
     },
     "metadata": {},
     "output_type": "display_data"
    },
    {
     "name": "stdout",
     "output_type": "stream",
     "text": [
      "(-2976.379093170166, -452.470947265625)\n"
     ]
    }
   ],
   "source": [
    "otsu_filter = sitk.OtsuMultipleThresholdsImageFilter()\n",
    "otsu_filter.SetNumberOfThresholds(2)\n",
    "seg = otsu_filter.Execute(img_T1)\n",
    "myshow(sitk.LabelOverlay(img_T1_255, seg), \"Otsu Multi Thresholding overlayed on Image\")\n",
    "myshow(seg, \"Otsu Multi Thresholding\")\n",
    "print(otsu_filter.GetThresholds())"
   ]
  },
  {
   "cell_type": "code",
   "execution_count": 4,
   "id": "11ad1392",
   "metadata": {},
   "outputs": [
    {
     "data": {
      "image/png": "[encoded data removed]",
      "text/plain": [
       "<Figure size 432x288 with 1 Axes>"
      ]
     },
     "metadata": {
      "needs_background": "light"
     },
     "output_type": "display_data"
    }
   ],
   "source": [
    "plt.figure()\n",
    "plt.hist(sitk.GetArrayViewFromImage(seg).flatten(), bins=100)\n",
    "plt.show()\n"
   ]
  },
  {
   "cell_type": "code",
   "execution_count": 5,
   "id": "0e089955",
   "metadata": {},
   "outputs": [],
   "source": [
    "seg = sitk.BinaryThreshold(\n",
    "    seg, lowerThreshold=0.75, upperThreshold=1.25, insideValue=1, outsideValue=0\n",
    ")\n"
   ]
  },
  {
   "cell_type": "code",
   "execution_count": 6,
   "id": "13a17ca3",
   "metadata": {},
   "outputs": [
    {
     "data": {
      "application/vnd.jupyter.widget-view+json": {
       "model_id": "a6e6d5d04c6b4a2fb5c8bfc815d19878",
       "version_major": 2,
       "version_minor": 0
      },
      "text/plain": [
       "interactive(children=(IntSlider(value=100, description='z', max=200), Output()), _dom_classes=('widget-interac…"
      ]
     },
     "metadata": {},
     "output_type": "display_data"
    }
   ],
   "source": [
    "cleaned_thresh_img = sitk.BinaryOpeningByReconstruction(\n",
    "    seg, [5, 5, 5]\n",
    ")\n",
    "cleaned_thresh_img = sitk.BinaryClosingByReconstruction(\n",
    "    cleaned_thresh_img, [5, 5, 5]\n",
    ")\n",
    "\n",
    "myshow(sitk.LabelOverlay(img_T1_255, cleaned_thresh_img), \"Otsu Multi Thresholding + Bianry Reconstruction Overlayed On Image\")\n"
   ]
  },
  {
   "cell_type": "code",
   "execution_count": 7,
   "id": "26fed668",
   "metadata": {},
   "outputs": [
    {
     "data": {
      "application/vnd.jupyter.widget-view+json": {
       "model_id": "0e6028a5e23c4593b5df0b03ce565536",
       "version_major": 2,
       "version_minor": 0
      },
      "text/plain": [
       "interactive(children=(IntSlider(value=100, description='z', max=200), Output()), _dom_classes=('widget-interac…"
      ]
     },
     "metadata": {},
     "output_type": "display_data"
    }
   ],
   "source": [
    "myshow3d(cleaned_thresh_img)\n"
   ]
  },
  {
   "cell_type": "code",
   "execution_count": 8,
   "id": "6c3932b3",
   "metadata": {},
   "outputs": [],
   "source": [
    "sitk.WriteImage(cleaned_thresh_img, output_path)"
   ]
  },
  {
   "cell_type": "code",
   "execution_count": null,
   "id": "f201a50d",
   "metadata": {},
   "outputs": [],
   "source": []
  }
 ],
 "metadata": {
  "kernelspec": {
   "display_name": "Python 3 (ipykernel)",
   "language": "python",
   "name": "python3"
  },
  "language_info": {
   "codemirror_mode": {
    "name": "ipython",
    "version": 3
   },
   "file_extension": ".py",
   "mimetype": "text/x-python",
   "name": "python",
   "nbconvert_exporter": "python",
   "pygments_lexer": "ipython3",
   "version": "3.8.13"
  }
 },
 "nbformat": 4,
 "nbformat_minor": 5
}
