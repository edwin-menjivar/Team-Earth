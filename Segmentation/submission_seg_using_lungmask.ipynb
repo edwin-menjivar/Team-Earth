{
 "cells": [
  {
   "cell_type": "markdown",
   "id": "29c6da05",
   "metadata": {},
   "source": [
    "# Segmentation using Lungmask library\n",
    "Uses https://github.com/JoHof/lungmask\n",
    "    \n",
    "Uses material from https://github.com/SimpleITK/SimpleITK\n",
    "\n",
    "input: 3D CT scan image of the lung (raw image)\n",
    "output: 3D segmented lung image"
   ]
  },
  {
   "cell_type": "code",
   "execution_count": 1,
   "id": "943ccc2e",
   "metadata": {},
   "outputs": [],
   "source": [
    "import numpy as np\n",
    "import pandas as pd\n",
    "# import pydicom\n",
    "import os\n",
    "import scipy.ndimage as ndimage\n",
    "# from skimage import measure, morphology, segmentation\n",
    "# import matplotlib.pyplot as plt\n",
    "# from pathlib import Path\n",
    "# import cv2\n",
    "\n",
    "# import time"
   ]
  },
  {
   "cell_type": "code",
   "execution_count": 2,
   "id": "814e4723",
   "metadata": {},
   "outputs": [],
   "source": [
    "# input_path = \"./submission_data/nifti_input_data/601.000000-COR-3X3-53956.nii\"\n",
    "# ouput_path = \"./submission_data/output_masks_rest/601.000000-COR-3X3-53956.nii\""
   ]
  },
  {
   "cell_type": "code",
   "execution_count": 3,
   "id": "8234d003",
   "metadata": {},
   "outputs": [],
   "source": [
    "# Registration files\n",
    "# C:/Users/edwin/OneDrive/Documents/CSC-821/ImageJAndData/CovidData/manifest-1608266677008/MIDRC-RICORD-1A/MIDRC-RICORD-1A-SITE2-000245/01-15-2002-NA-NA-80471/2.000000-NA-58989\n",
    "# C:/Users/edwin/OneDrive/Documents/CSC-821/ImageJAndData/CovidData/manifest-1608266677008/MIDRC-RICORD-1A/MIDRC-RICORD-1A-SITE2-000245/02-12-2002-NA-NA-23720/5.000000-NA-71388\n",
    "input_path = \"./submission_data/registration/nifti_files/patient1/5.000000-NA-71388.nii\"\n",
    "output_path = \"./submission_data/registration/segmented_lungs/patient1/5.000000-NA-71388.nii\"\n",
    "output_path_mask = \"./submission_data/registration/lung_masks/patient1/5.000000-NA-71388.nii\""
   ]
  },
  {
   "cell_type": "code",
   "execution_count": 4,
   "id": "258e9599",
   "metadata": {},
   "outputs": [],
   "source": [
    "from lungmask import mask\n",
    "import SimpleITK as sitk\n",
    "from myshow import myshow, myshow3d"
   ]
  },
  {
   "cell_type": "code",
   "execution_count": 5,
   "id": "17d9c593",
   "metadata": {},
   "outputs": [
    {
     "name": "stdout",
     "output_type": "stream",
     "text": [
      "INFO:root:No GPU support available, will use CPU. Note, that this is significantly slower!\n"
     ]
    },
    {
     "name": "stderr",
     "output_type": "stream",
     "text": [
      "100%|████████████████████████████████████████████████████████████████████████████████| 119/119 [02:36<00:00,  1.31s/it]\n",
      "100%|██████████████████████████████████████████████████████████████████████████████████| 2/2 [00:00<00:00, 1002.46it/s]\n"
     ]
    }
   ],
   "source": [
    "input_image = sitk.ReadImage(input_path)\n",
    "\n",
    "segmentation = mask.apply(input_image)\n",
    "\n",
    "origin = input_image.GetOrigin()\n",
    "spacing = input_image.GetSpacing()\n",
    "direction = input_image.GetDirection()"
   ]
  },
  {
   "cell_type": "code",
   "execution_count": 6,
   "id": "e2949719",
   "metadata": {},
   "outputs": [],
   "source": [
    "output_image = sitk.GetImageFromArray(segmentation)"
   ]
  },
  {
   "cell_type": "code",
   "execution_count": 7,
   "id": "88376c83",
   "metadata": {},
   "outputs": [],
   "source": [
    "output_image = sitk.Cast(sitk.RescaleIntensity(output_image), sitk.sitkInt16)\n",
    "output_image.SetOrigin(origin)\n",
    "output_image.SetSpacing(spacing)\n",
    "output_image.SetDirection(direction)\n",
    "\n",
    "\n",
    "# sitk.WriteImage(sitk.Cast(output_image, sitk.sitkInt16), \"patient_test_1_output.nii\")\n",
    "sitk.WriteImage(output_image, output_path_mask)"
   ]
  },
  {
   "cell_type": "code",
   "execution_count": 8,
   "id": "ab722e7f",
   "metadata": {},
   "outputs": [],
   "source": [
    "# input_image_array = sitk.GetArrayFromImage(input_image)\n",
    "# image_array_from_mask = np.where(segmentation == 1, input_image_array, 0)\n",
    "# image_array_from_mask = image_array_from_mask + np.where(segmentation == 2, input_image_array, 0)\n",
    "\n",
    "# image_from_mask = sitk.GetImageFromArray(image_array_from_mask)\n",
    "\n",
    "# output_image_from_mask = sitk.Cast(sitk.RescaleIntensity(image_from_mask), sitk.sitkInt16)\n",
    "# output_image_from_mask.SetOrigin(origin)\n",
    "# output_image_from_mask.SetSpacing(spacing)\n",
    "# output_image_from_mask.SetDirection(direction)"
   ]
  },
  {
   "cell_type": "code",
   "execution_count": 9,
   "id": "2cdb8d82",
   "metadata": {},
   "outputs": [],
   "source": [
    "# myshow(sitk.LabelOverlay(input_image, output_image), \"Mask overlayed on image\")"
   ]
  },
  {
   "cell_type": "code",
   "execution_count": 10,
   "id": "4758e159",
   "metadata": {},
   "outputs": [],
   "source": [
    "# myshow(output_image_from_mask, \"Segmented Lungs\")\n",
    "# sitk.WriteImage(output_image_from_mask, \"./output_data/patient_test_5_output_image_from_mask.nii\")"
   ]
  },
  {
   "cell_type": "code",
   "execution_count": null,
   "id": "1d026518",
   "metadata": {},
   "outputs": [],
   "source": []
  },
  {
   "cell_type": "code",
   "execution_count": 11,
   "id": "046e354c",
   "metadata": {},
   "outputs": [],
   "source": [
    "# My own implementation\n",
    "input_image_array = sitk.GetArrayFromImage(input_image)\n",
    "mask = (segmentation != 0).astype(np.uint8)\n",
    "mask = sitk.GetImageFromArray(mask)\n",
    "mask.CopyInformation(input_image)\n",
    "\n",
    "masking_value=0\n",
    "outside_value=-1500\n",
    "mf = sitk.MaskImageFilter()\n",
    "mf.SetMaskingValue(masking_value)\n",
    "mf.SetOutsideValue(outside_value)\n",
    "output_image_from_mask =  mf.Execute(input_image, mask)"
   ]
  },
  {
   "cell_type": "code",
   "execution_count": 12,
   "id": "44a0e9bb",
   "metadata": {
    "scrolled": true
   },
   "outputs": [
    {
     "data": {
      "application/vnd.jupyter.widget-view+json": {
       "model_id": "561e13eda85b4b0faf536bbb3733c2ee",
       "version_major": 2,
       "version_minor": 0
      },
      "text/plain": [
       "interactive(children=(IntSlider(value=59, description='z', max=118), Output()), _dom_classes=('widget-interact…"
      ]
     },
     "metadata": {},
     "output_type": "display_data"
    }
   ],
   "source": [
    "myshow(output_image_from_mask, \"Segmented Lungs\")\n",
    "sitk.WriteImage(output_image_from_mask, output_path)"
   ]
  },
  {
   "cell_type": "code",
   "execution_count": null,
   "id": "20057e72",
   "metadata": {},
   "outputs": [],
   "source": []
  }
 ],
 "metadata": {
  "kernelspec": {
   "display_name": "Python 3 (ipykernel)",
   "language": "python",
   "name": "python3"
  },
  "language_info": {
   "codemirror_mode": {
    "name": "ipython",
    "version": 3
   },
   "file_extension": ".py",
   "mimetype": "text/x-python",
   "name": "python",
   "nbconvert_exporter": "python",
   "pygments_lexer": "ipython3",
   "version": "3.8.13"
  }
 },
 "nbformat": 4,
 "nbformat_minor": 5
}
