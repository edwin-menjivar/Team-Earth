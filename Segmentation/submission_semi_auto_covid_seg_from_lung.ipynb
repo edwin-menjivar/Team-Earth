{
 "cells": [
  {
   "cell_type": "markdown",
   "id": "ff602dab",
   "metadata": {},
   "source": [
    "# Segment covid 19 from the lungs\n",
    "Uses Otsu Multi Thresholding algorithm, BinaryOpeningByReconstruction, and BinaryClosingByReconstruction\n",
    "\n",
    "Uses material from https://github.com/SimpleITK/SimpleITK\n",
    "\n",
    "Input: segmented lung 3D image\n",
    "\n",
    "Output: covid 19 segmentation mask"
   ]
  },
  {
   "cell_type": "code",
   "execution_count": 1,
   "id": "0c4e7b9a",
   "metadata": {},
   "outputs": [],
   "source": [
    "%matplotlib inline\n",
    "import matplotlib.pyplot as plt\n",
    "from ipywidgets import interact, FloatSlider\n",
    "\n",
    "import SimpleITK as sitk\n",
    "from myshow import myshow, myshow3d\n",
    "import nibabel as nib\n",
    "import numpy as np"
   ]
  },
  {
   "cell_type": "code",
   "execution_count": 2,
   "id": "31fa88ee",
   "metadata": {},
   "outputs": [],
   "source": [
    "input_path = \"./output_data_segmented_for_registration/2.000000-ROUTINE CHEST NON-CON-70218.nii\"\n",
    "output_path = \"./semi_auto_output_data/covid_seg_mask/2.000000-ROUTINE CHEST NON-CON-70218.nii\""
   ]
  },
  {
   "cell_type": "code",
   "execution_count": 3,
   "id": "3fa00a86",
   "metadata": {},
   "outputs": [
    {
     "data": {
      "application/vnd.jupyter.widget-view+json": {
       "model_id": "4c58d5d9812442699791bbed86771b92",
       "version_major": 2,
       "version_minor": 0
      },
      "text/plain": [
       "interactive(children=(IntSlider(value=100, description='z', max=200), Output()), _dom_classes=('widget-interac…"
      ]
     },
     "metadata": {},
     "output_type": "display_data"
    }
   ],
   "source": [
    "img_T1 = sitk.ReadImage(input_path)\n",
    "\n",
    "img_T1_255 = sitk.Cast(sitk.RescaleIntensity(img_T1), sitk.sitkUInt8)\n",
    "\n",
    "myshow3d(img_T1)"
   ]
  },
  {
   "cell_type": "code",
   "execution_count": 4,
   "id": "7757144c",
   "metadata": {},
   "outputs": [
    {
     "data": {
      "application/vnd.jupyter.widget-view+json": {
       "model_id": "db0e996e6b944dbab1341e789ec8b1f4",
       "version_major": 2,
       "version_minor": 0
      },
      "text/plain": [
       "interactive(children=(IntSlider(value=100, description='z', max=200), Output()), _dom_classes=('widget-interac…"
      ]
     },
     "metadata": {},
     "output_type": "display_data"
    },
    {
     "data": {
      "application/vnd.jupyter.widget-view+json": {
       "model_id": "3ca991140338492eae639fe902fde2a1",
       "version_major": 2,
       "version_minor": 0
      },
      "text/plain": [
       "interactive(children=(IntSlider(value=100, description='z', max=200), Output()), _dom_classes=('widget-interac…"
      ]
     },
     "metadata": {},
     "output_type": "display_data"
    },
    {
     "name": "stdout",
     "output_type": "stream",
     "text": [
      "(-1482.7642784118652, -379.6781005859375)\n"
     ]
    }
   ],
   "source": [
    "otsu_filter = sitk.OtsuMultipleThresholdsImageFilter()\n",
    "otsu_filter.SetNumberOfThresholds(2)\n",
    "seg = otsu_filter.Execute(img_T1)\n",
    "myshow(sitk.LabelOverlay(img_T1_255, seg), \"Otsu Multi Thresholding overlayed on Image\")\n",
    "myshow(seg, \"Otsu Multi Thresholding\")\n",
    "print(otsu_filter.GetThresholds())"
   ]
  },
  {
   "cell_type": "code",
   "execution_count": 5,
   "id": "11ad1392",
   "metadata": {},
   "outputs": [
    {
     "data": {
      "image/png": "[encoded data removed]",
      "text/plain": [
       "<Figure size 432x288 with 1 Axes>"
      ]
     },
     "metadata": {
      "needs_background": "light"
     },
     "output_type": "display_data"
    },
    {
     "data": {
      "application/vnd.jupyter.widget-view+json": {
       "model_id": "30be46fe9b1045778860e4e92b2bd364",
       "version_major": 2,
       "version_minor": 0
      },
      "text/plain": [
       "interactive(children=(IntSlider(value=100, description='z', max=200), Output()), _dom_classes=('widget-interac…"
      ]
     },
     "metadata": {},
     "output_type": "display_data"
    }
   ],
   "source": [
    "plt.figure()\n",
    "plt.hist(sitk.GetArrayViewFromImage(seg).flatten(), bins=100)\n",
    "plt.show()\n",
    "myshow(seg, \"Binary Thresholding\")"
   ]
  },
  {
   "cell_type": "code",
   "execution_count": 6,
   "id": "0e089955",
   "metadata": {},
   "outputs": [],
   "source": [
    "seg = sitk.BinaryThreshold(\n",
    "    seg, lowerThreshold=0.75, upperThreshold=1.25, insideValue=0, outsideValue=1\n",
    ")\n"
   ]
  },
  {
   "cell_type": "code",
   "execution_count": 7,
   "id": "13a17ca3",
   "metadata": {},
   "outputs": [
    {
     "data": {
      "application/vnd.jupyter.widget-view+json": {
       "model_id": "e54c38fa93e44ae088aa6f35386387a1",
       "version_major": 2,
       "version_minor": 0
      },
      "text/plain": [
       "interactive(children=(IntSlider(value=100, description='z', max=200), Output()), _dom_classes=('widget-interac…"
      ]
     },
     "metadata": {},
     "output_type": "display_data"
    }
   ],
   "source": [
    "cleaned_thresh_img = sitk.BinaryOpeningByReconstruction(\n",
    "    seg, [5, 5, 5]\n",
    ")\n",
    "cleaned_thresh_img = sitk.BinaryClosingByReconstruction(\n",
    "    cleaned_thresh_img, [5, 5, 5]\n",
    ")\n",
    "\n",
    "myshow(sitk.LabelOverlay(img_T1_255, cleaned_thresh_img), \"Otsu Multi Thresholding + Bianry Reconstruction Overlayed On Image\")\n"
   ]
  },
  {
   "cell_type": "code",
   "execution_count": 8,
   "id": "26fed668",
   "metadata": {},
   "outputs": [
    {
     "data": {
      "application/vnd.jupyter.widget-view+json": {
       "model_id": "e1c0c6cc43f44794879a2f7c5145df78",
       "version_major": 2,
       "version_minor": 0
      },
      "text/plain": [
       "interactive(children=(IntSlider(value=100, description='z', max=200), Output()), _dom_classes=('widget-interac…"
      ]
     },
     "metadata": {},
     "output_type": "display_data"
    }
   ],
   "source": [
    "myshow3d(cleaned_thresh_img)\n"
   ]
  },
  {
   "cell_type": "code",
   "execution_count": 9,
   "id": "6c3932b3",
   "metadata": {},
   "outputs": [],
   "source": [
    "sitk.WriteImage(cleaned_thresh_img, output_path)"
   ]
  }
 ],
 "metadata": {
  "kernelspec": {
   "display_name": "Python 3 (ipykernel)",
   "language": "python",
   "name": "python3"
  },
  "language_info": {
   "codemirror_mode": {
    "name": "ipython",
    "version": 3
   },
   "file_extension": ".py",
   "mimetype": "text/x-python",
   "name": "python",
   "nbconvert_exporter": "python",
   "pygments_lexer": "ipython3",
   "version": "3.8.13"
  }
 },
 "nbformat": 4,
 "nbformat_minor": 5
}
