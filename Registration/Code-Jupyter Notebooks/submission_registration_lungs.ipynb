{
 "cells": [
  {
   "cell_type": "markdown",
   "id": "1a857bb8",
   "metadata": {},
   "source": [
    "# Registration of two lung 3D images\n",
    "Uses CenteredTransformInitializer, Euler3DTransform\n",
    "\n",
    "Uses material from https://github.com/SimpleITK/SimpleITK\n",
    "\n",
    "Input: segmented lung 3D image\n",
    "\n",
    "Output: covid 19 segmentation mask"
   ]
  },
  {
   "cell_type": "code",
   "execution_count": 1,
   "id": "33cfe0f0",
   "metadata": {},
   "outputs": [],
   "source": [
    "import os\n",
    "import SimpleITK as sitk\n",
    "%matplotlib inline\n",
    "import matplotlib.pyplot as plt\n",
    "from ipywidgets import interact, fixed\n",
    "from IPython.display import clear_output\n"
   ]
  },
  {
   "cell_type": "code",
   "execution_count": 2,
   "id": "87542e1e",
   "metadata": {},
   "outputs": [],
   "source": [
    "# Input image path 1\n",
    "fixed_image = sitk.ReadImage(\"./submission_data/registration/segmented_lungs/patient1/2.000000-NA-58989.nii\", sitk.sitkFloat32)\n",
    "# Input image path 2\n",
    "moving_image = sitk.ReadImage(\"./submission_data/registration/segmented_lungs/patient1/5.000000-NA-71388.nii\", sitk.sitkFloat32)\n",
    "# Output directory\n",
    "OUTPUT_DIR = \"./submission_data/registration/results/patient1\"\n",
    "# Output image 1 name\n",
    "output_name = \"patient1.mha\" # To make copy of tranformed image\n",
    "# Output image 2 name\n",
    "output_transform_name = \"patient1.tfm\""
   ]
  },
  {
   "cell_type": "code",
   "execution_count": 3,
   "id": "3516a306",
   "metadata": {},
   "outputs": [],
   "source": [
    "# Callback invoked by the interact IPython method for scrolling through the image stacks of\n",
    "# the two images (moving and fixed).\n",
    "def display_images(fixed_image_z, moving_image_z, fixed_npa, moving_npa):\n",
    "    # Create a figure with two subplots and the specified size.\n",
    "    plt.subplots(1, 2, figsize=(10, 8))\n",
    "\n",
    "    # Draw the fixed image in the first subplot.\n",
    "    plt.subplot(1, 2, 1)\n",
    "    plt.imshow(fixed_npa[fixed_image_z, :, :], cmap=plt.cm.Greys_r)\n",
    "    plt.title(\"fixed image\")\n",
    "    plt.axis(\"off\")\n",
    "\n",
    "    # Draw the moving image in the second subplot.\n",
    "    plt.subplot(1, 2, 2)\n",
    "    plt.imshow(moving_npa[moving_image_z, :, :], cmap=plt.cm.Greys_r)\n",
    "    plt.title(\"moving image\")\n",
    "    plt.axis(\"off\")\n",
    "\n",
    "    plt.show()\n",
    "\n",
    "\n",
    "# Callback invoked by the IPython interact method for scrolling and modifying the alpha blending\n",
    "# of an image stack of two images that occupy the same physical space.\n",
    "def display_images_with_alpha(image_z, alpha, fixed, moving):\n",
    "    img = (1.0 - alpha) * fixed[:, :, image_z] + alpha * moving[:, :, image_z]\n",
    "    plt.imshow(sitk.GetArrayViewFromImage(img), cmap=plt.cm.Greys_r)\n",
    "    plt.axis(\"off\")\n",
    "    plt.show()\n",
    "\n",
    "\n",
    "# Callback invoked when the StartEvent happens, sets up our new data.\n",
    "def start_plot():\n",
    "    global metric_values, multires_iterations\n",
    "\n",
    "    metric_values = []\n",
    "    multires_iterations = []\n",
    "\n",
    "\n",
    "# Callback invoked when the EndEvent happens, do cleanup of data and figure.\n",
    "def end_plot():\n",
    "    global metric_values, multires_iterations\n",
    "\n",
    "    del metric_values\n",
    "    del multires_iterations\n",
    "    # Close figure, we don't want to get a duplicate of the plot latter on.\n",
    "    plt.close()\n",
    "\n",
    "\n",
    "# Callback invoked when the IterationEvent happens, update our data and display new figure.\n",
    "def plot_values(registration_method):\n",
    "    global metric_values, multires_iterations\n",
    "\n",
    "    metric_values.append(registration_method.GetMetricValue())\n",
    "    # Clear the output area (wait=True, to reduce flickering), and plot current data\n",
    "    clear_output(wait=True)\n",
    "    # Plot the similarity metric values\n",
    "    plt.plot(metric_values, \"r\")\n",
    "    plt.plot(\n",
    "        multires_iterations,\n",
    "        [metric_values[index] for index in multires_iterations],\n",
    "        \"b*\",\n",
    "    )\n",
    "    plt.xlabel(\"Iteration Number\", fontsize=12)\n",
    "    plt.ylabel(\"Metric Value\", fontsize=12)\n",
    "    plt.show()\n",
    "\n",
    "\n",
    "# Callback invoked when the sitkMultiResolutionIterationEvent happens, update the index into the\n",
    "# metric_values list.\n",
    "def update_multires_iterations():\n",
    "    global metric_values, multires_iterations\n",
    "    multires_iterations.append(len(metric_values))"
   ]
  },
  {
   "cell_type": "code",
   "execution_count": 4,
   "id": "0542f226",
   "metadata": {},
   "outputs": [
    {
     "data": {
      "application/vnd.jupyter.widget-view+json": {
       "model_id": "9b50544a84e34aa0b78ff58c087df69d",
       "version_major": 2,
       "version_minor": 0
      },
      "text/plain": [
       "interactive(children=(IntSlider(value=55, description='fixed_image_z', max=110), IntSlider(value=59, descripti…"
      ]
     },
     "metadata": {},
     "output_type": "display_data"
    }
   ],
   "source": [
    "interact(\n",
    "    display_images,\n",
    "    fixed_image_z=(0, fixed_image.GetSize()[2] - 1),\n",
    "    moving_image_z=(0, moving_image.GetSize()[2] - 1),\n",
    "    fixed_npa=fixed(sitk.GetArrayViewFromImage(fixed_image)),\n",
    "    moving_npa=fixed(sitk.GetArrayViewFromImage(moving_image)),\n",
    ");"
   ]
  },
  {
   "cell_type": "code",
   "execution_count": 5,
   "id": "c3e20185",
   "metadata": {},
   "outputs": [
    {
     "data": {
      "application/vnd.jupyter.widget-view+json": {
       "model_id": "10879d6996aa45489c7a91835a7275f4",
       "version_major": 2,
       "version_minor": 0
      },
      "text/plain": [
       "interactive(children=(IntSlider(value=55, description='image_z', max=110), FloatSlider(value=0.5, description=…"
      ]
     },
     "metadata": {},
     "output_type": "display_data"
    }
   ],
   "source": [
    "initial_transform = sitk.CenteredTransformInitializer(\n",
    "    fixed_image,\n",
    "    moving_image,\n",
    "    sitk.Euler3DTransform(),\n",
    "    sitk.CenteredTransformInitializerFilter.GEOMETRY,\n",
    ")\n",
    "\n",
    "moving_resampled = sitk.Resample(\n",
    "    moving_image,\n",
    "    fixed_image,\n",
    "    initial_transform,\n",
    "    sitk.sitkLinear,\n",
    "    0.0,\n",
    "    moving_image.GetPixelID(),\n",
    ")\n",
    "\n",
    "interact(\n",
    "    display_images_with_alpha,\n",
    "    image_z=(0, fixed_image.GetSize()[2] - 1),\n",
    "    alpha=(0.0, 1.0, 0.05),\n",
    "    fixed=fixed(fixed_image),\n",
    "    moving=fixed(moving_resampled),\n",
    ");"
   ]
  },
  {
   "cell_type": "code",
   "execution_count": 6,
   "id": "4af4e706",
   "metadata": {},
   "outputs": [
    {
     "data": {
      "image/png": "[encoded data removed]",
      "text/plain": [
       "<Figure size 432x288 with 1 Axes>"
      ]
     },
     "metadata": {
      "needs_background": "light"
     },
     "output_type": "display_data"
    }
   ],
   "source": [
    "registration_method = sitk.ImageRegistrationMethod()\n",
    "\n",
    "# Similarity metric settings.\n",
    "registration_method.SetMetricAsMattesMutualInformation(numberOfHistogramBins=50)\n",
    "registration_method.SetMetricSamplingStrategy(registration_method.RANDOM)\n",
    "registration_method.SetMetricSamplingPercentage(0.01)\n",
    "\n",
    "registration_method.SetInterpolator(sitk.sitkLinear)\n",
    "\n",
    "# Optimizer settings.\n",
    "registration_method.SetOptimizerAsGradientDescent(\n",
    "    learningRate=1.0,\n",
    "    numberOfIterations=100,\n",
    "    convergenceMinimumValue=1e-6,\n",
    "    convergenceWindowSize=10,\n",
    ")\n",
    "registration_method.SetOptimizerScalesFromPhysicalShift()\n",
    "\n",
    "# Setup for the multi-resolution framework.\n",
    "registration_method.SetShrinkFactorsPerLevel(shrinkFactors=[4, 2, 1])\n",
    "registration_method.SetSmoothingSigmasPerLevel(smoothingSigmas=[2, 1, 0])\n",
    "registration_method.SmoothingSigmasAreSpecifiedInPhysicalUnitsOn()\n",
    "\n",
    "# Don't optimize in-place, we would possibly like to run this cell multiple times.\n",
    "registration_method.SetInitialTransform(initial_transform, inPlace=False)\n",
    "\n",
    "# Connect all of the observers so that we can perform plotting during registration.\n",
    "registration_method.AddCommand(sitk.sitkStartEvent, start_plot)\n",
    "registration_method.AddCommand(sitk.sitkEndEvent, end_plot)\n",
    "registration_method.AddCommand(\n",
    "    sitk.sitkMultiResolutionIterationEvent, update_multires_iterations\n",
    ")\n",
    "registration_method.AddCommand(\n",
    "    sitk.sitkIterationEvent, lambda: plot_values(registration_method)\n",
    ")\n",
    "\n",
    "final_transform = registration_method.Execute(\n",
    "    sitk.Cast(fixed_image, sitk.sitkFloat32), sitk.Cast(moving_image, sitk.sitkFloat32)\n",
    ")"
   ]
  },
  {
   "cell_type": "code",
   "execution_count": 7,
   "id": "0453cacd",
   "metadata": {},
   "outputs": [
    {
     "name": "stdout",
     "output_type": "stream",
     "text": [
      "Final metric value: -0.20150850071754767\n",
      "Optimizer's stopping condition, GradientDescentOptimizerv4Template: Convergence checker passed at iteration 9.\n"
     ]
    }
   ],
   "source": [
    "print(f\"Final metric value: {registration_method.GetMetricValue()}\")\n",
    "print(\n",
    "    f\"Optimizer's stopping condition, {registration_method.GetOptimizerStopConditionDescription()}\"\n",
    ")"
   ]
  },
  {
   "cell_type": "code",
   "execution_count": 8,
   "id": "18888d09",
   "metadata": {},
   "outputs": [
    {
     "data": {
      "application/vnd.jupyter.widget-view+json": {
       "model_id": "08929e481d9e43389a48f266b4f0750c",
       "version_major": 2,
       "version_minor": 0
      },
      "text/plain": [
       "interactive(children=(IntSlider(value=55, description='image_z', max=110), FloatSlider(value=0.5, description=…"
      ]
     },
     "metadata": {},
     "output_type": "display_data"
    }
   ],
   "source": [
    "moving_resampled = sitk.Resample(\n",
    "    moving_image,\n",
    "    fixed_image,\n",
    "    final_transform,\n",
    "    sitk.sitkLinear,\n",
    "    0.0,\n",
    "    moving_image.GetPixelID(),\n",
    ")\n",
    "\n",
    "interact(\n",
    "    display_images_with_alpha,\n",
    "    image_z=(0, fixed_image.GetSize()[2] - 1),\n",
    "    alpha=(0.0, 1.0, 0.05),\n",
    "    fixed=fixed(fixed_image),\n",
    "    moving=fixed(moving_resampled),\n",
    ");"
   ]
  },
  {
   "cell_type": "code",
   "execution_count": 9,
   "id": "86634715",
   "metadata": {},
   "outputs": [],
   "source": [
    "sitk.WriteImage(\n",
    "    moving_resampled, os.path.join(OUTPUT_DIR, output_name)\n",
    ")\n",
    "sitk.WriteTransform(\n",
    "    final_transform, os.path.join(OUTPUT_DIR, output_transform_name)\n",
    ")"
   ]
  }
 ],
 "metadata": {
  "kernelspec": {
   "display_name": "Python 3 (ipykernel)",
   "language": "python",
   "name": "python3"
  },
  "language_info": {
   "codemirror_mode": {
    "name": "ipython",
    "version": 3
   },
   "file_extension": ".py",
   "mimetype": "text/x-python",
   "name": "python",
   "nbconvert_exporter": "python",
   "pygments_lexer": "ipython3",
   "version": "3.8.13"
  }
 },
 "nbformat": 4,
 "nbformat_minor": 5
}
