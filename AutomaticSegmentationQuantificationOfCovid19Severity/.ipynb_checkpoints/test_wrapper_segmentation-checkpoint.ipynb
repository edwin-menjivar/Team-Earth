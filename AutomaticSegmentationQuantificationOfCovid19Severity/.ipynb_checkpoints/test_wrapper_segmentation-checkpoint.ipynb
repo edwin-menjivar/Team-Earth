{
 "cells": [
  {
   "cell_type": "markdown",
   "id": "7921f136",
   "metadata": {},
   "source": [
    "# Testing the code in wrapper_segementation"
   ]
  },
  {
   "cell_type": "code",
   "execution_count": 1,
   "id": "758f7e82",
   "metadata": {
    "ExecuteTime": {
     "end_time": "2022-05-10T09:00:59.292389Z",
     "start_time": "2022-05-10T09:00:58.479646Z"
    }
   },
   "outputs": [],
   "source": [
    "import SimpleITK as sitk\n",
    "import numpy as np\n",
    "\n",
    "import matplotlib.pyplot as plt"
   ]
  },
  {
   "cell_type": "code",
   "execution_count": 2,
   "id": "85ed8712",
   "metadata": {
    "ExecuteTime": {
     "end_time": "2022-05-10T09:01:00.307317Z",
     "start_time": "2022-05-10T09:00:59.293391Z"
    }
   },
   "outputs": [],
   "source": [
    "import wrapper_segmentation"
   ]
  },
  {
   "cell_type": "code",
   "execution_count": 3,
   "id": "19d70cf1",
   "metadata": {
    "ExecuteTime": {
     "end_time": "2022-05-10T09:01:00.322319Z",
     "start_time": "2022-05-10T09:01:00.309321Z"
    }
   },
   "outputs": [],
   "source": [
    "# Not used, but should work\n",
    "PATH_EXAMPLE_SINGLE = r\"H:\\Datasets\\figshare\\covid_rate\\COVID-Rate-CT\\p007\\p07im004.dcm\"\n",
    "\n",
    "# This is the one that will be used\n",
    "PATH_EXAMPLE_VOLUME = r\"H:\\Datasets\\zenodo\\covid_19_ct_lung_and_infection_segmentation_dataset\\data\\coronacases_001.nii.gz\""
   ]
  },
  {
   "cell_type": "code",
   "execution_count": 4,
   "id": "8457b0e7",
   "metadata": {
    "ExecuteTime": {
     "end_time": "2022-05-10T09:01:00.338325Z",
     "start_time": "2022-05-10T09:01:00.324321Z"
    }
   },
   "outputs": [],
   "source": [
    "# sitk_image_segmentation_lungmask_volume = wrapper_segmentation.get_sitk_image_segmentation_mask_lung_lungmask_using_R231CovidWeb(PATH_EXAMPLE_VOLUME)"
   ]
  },
  {
   "cell_type": "code",
   "execution_count": 5,
   "id": "08134db5",
   "metadata": {
    "ExecuteTime": {
     "end_time": "2022-05-10T09:01:00.354340Z",
     "start_time": "2022-05-10T09:01:00.339326Z"
    }
   },
   "outputs": [],
   "source": [
    "# sitk_image_segmentation_ct_lung_seg_volume = wrapper_segmentation.get_sitk_image_segmentation_mask_covid_ct_lung_seg_using_R231CovidWeb(PATH_EXAMPLE_VOLUME)"
   ]
  },
  {
   "cell_type": "code",
   "execution_count": 6,
   "id": "68556f59",
   "metadata": {
    "ExecuteTime": {
     "end_time": "2022-05-10T09:01:00.369339Z",
     "start_time": "2022-05-10T09:01:00.355340Z"
    }
   },
   "outputs": [],
   "source": [
    "FONT_SIZE = 25\n",
    "\n",
    "PLT_CMAP_VIRIDIS = plt.get_cmap(\"viridis\")\n",
    "\n",
    "\n",
    "def display_np_ndarray_shape_size_3(np_ndarray_given, amount_of_images_to_display):\n",
    "    total_images = np_ndarray_given.shape[0]\n",
    "\n",
    "    images_per_division = total_images // amount_of_images_to_display\n",
    "\n",
    "    for index_row in range(amount_of_images_to_display):\n",
    "\n",
    "        index_corrected = images_per_division * index_row\n",
    "\n",
    "        plt.figure(figsize=(10, 10))\n",
    "        plt.title(f\"Slice Index: {index_corrected}\",\n",
    "                  fontsize=FONT_SIZE)  # Not set_title\n",
    "        plt.imshow(np_ndarray_given[index_corrected])\n",
    "\n",
    "# plt.subplots_adjust(wspace=0, hspace=0)\n",
    "\n",
    "def display_np_ndarray_shape_size_3_multi(iterable_np_ndarray_given, amount_of_images_to_display):\n",
    "\n",
    "    if(len(iterable_np_ndarray_given) == 1):\n",
    "        display_np_ndarray_shape_size_3(\n",
    "            iterable_np_ndarray_given[0], \n",
    "            amount_of_images_to_display\n",
    "        )\n",
    "    else:\n",
    "\n",
    "        set_np_ndarray_size = set([i.shape[0]\n",
    "                                  for i in iterable_np_ndarray_given])\n",
    "\n",
    "        assert len(set_np_ndarray_size) == 1\n",
    "\n",
    "        total_images_1 = iterable_np_ndarray_given[0].shape[0]\n",
    "\n",
    "        images_per_division = total_images_1 // amount_of_images_to_display\n",
    "\n",
    "        amount_np_ndarray = len(iterable_np_ndarray_given)\n",
    "\n",
    "        for index_row in range(amount_of_images_to_display):\n",
    "\n",
    "            index_corrected = images_per_division * index_row\n",
    "\n",
    "            fig, axes = plt.subplots(1, amount_np_ndarray)\n",
    "            fig.set_size_inches(20, 20)\n",
    "            fig.tight_layout()  # Will bring graphs closer\n",
    "            \n",
    "            for index_ax, np_ndarray in enumerate(iterable_np_ndarray_given):\n",
    "                \n",
    "                ax = axes[index_ax]\n",
    "                ax.set_title(\n",
    "                    f\"np_ndarray_given_{index_ax} Slice Index: {index_corrected}\")\n",
    "                \n",
    "                ax.imshow(\n",
    "                    np_ndarray[index_corrected],  \n",
    "                    cmap=PLT_CMAP_VIRIDIS)\n",
    "                \n",
    "                ax.axis('off')\n",
    "                ax.set_xticklabels([])\n",
    "                ax.set_yticklabels([])\n",
    "                "
   ]
  },
  {
   "cell_type": "code",
   "execution_count": 7,
   "id": "9a86540f",
   "metadata": {
    "ExecuteTime": {
     "end_time": "2022-05-10T09:01:00.385355Z",
     "start_time": "2022-05-10T09:01:00.370341Z"
    },
    "scrolled": true
   },
   "outputs": [],
   "source": [
    "# np_ndarray_image_segmentation_lungmask_volume = sitk.GetArrayFromImage(sitk_image_segmentation_lungmask_volume)\n",
    "# display_np_ndarray_shape_size_3(np_ndarray_image_segmentation_lungmask_volume, 20)"
   ]
  },
  {
   "cell_type": "code",
   "execution_count": 8,
   "id": "9ea49eb4",
   "metadata": {
    "ExecuteTime": {
     "end_time": "2022-05-10T09:01:00.400903Z",
     "start_time": "2022-05-10T09:01:00.386357Z"
    },
    "scrolled": true
   },
   "outputs": [],
   "source": [
    "# np_ndarray_image_segmentation_ct_lung_seg_volume = sitk.GetArrayFromImage(sitk_image_segmentation_ct_lung_seg_volume)\n",
    "# display_np_ndarray_shape_size_3(np_ndarray_image_segmentation_ct_lung_seg_volume, 20)"
   ]
  },
  {
   "cell_type": "code",
   "execution_count": 9,
   "id": "1bf7a83f",
   "metadata": {
    "ExecuteTime": {
     "end_time": "2022-05-10T09:01:00.416905Z",
     "start_time": "2022-05-10T09:01:00.402903Z"
    },
    "scrolled": false
   },
   "outputs": [],
   "source": [
    "# display_np_ndarray_shape_size_3_multi(\n",
    "#     (\n",
    "#         np_ndarray_image_segmentation_lungmask_volume,\n",
    "#         np_ndarray_image_segmentation_ct_lung_seg_volume\n",
    "#     ),\n",
    "#     20\n",
    "# )"
   ]
  },
  {
   "cell_type": "code",
   "execution_count": 10,
   "id": "29383b44",
   "metadata": {
    "ExecuteTime": {
     "end_time": "2022-05-10T09:02:06.576437Z",
     "start_time": "2022-05-10T09:01:00.417903Z"
    }
   },
   "outputs": [
    {
     "name": "stderr",
     "output_type": "stream",
     "text": [
      "100%|██████████████████████████████████████████| 16/16 [00:04<00:00,  3.64it/s]\n",
      "100%|████████████████████████████████████████████| 6/6 [00:00<00:00, 72.29it/s]\n"
     ]
    }
   ],
   "source": [
    "(\n",
    "    sitk_image_segmentation_lung_ct_lung_seg,\n",
    "    sitk_image_lung_extracted_ct_lung_seg,\n",
    "    np_ndarray_segmentation_lungmask,\n",
    "    model_handler,\n",
    "    sitk_image_original\n",
    ") = wrapper_segmentation.get_sitk_image_segmentation_mask_covid_ct_lung_seg_using_R231CovidWeb_all_in_one(PATH_EXAMPLE_VOLUME)"
   ]
  },
  {
   "cell_type": "code",
   "execution_count": 11,
   "id": "52a9b4ce",
   "metadata": {
    "ExecuteTime": {
     "end_time": "2022-05-10T09:02:06.651434Z",
     "start_time": "2022-05-10T09:02:06.578436Z"
    },
    "run_control": {
     "marked": true
    }
   },
   "outputs": [],
   "source": [
    "np_ndarray_original = sitk.GetArrayFromImage(sitk_image_original)\n",
    "np_ndarray_lung_extracted_ct_lung_seg = sitk.GetArrayFromImage(sitk_image_lung_extracted_ct_lung_seg)\n",
    "np_ndarray_segmentation_lung_ct_lung_seg = sitk.GetArrayFromImage(sitk_image_segmentation_lung_ct_lung_seg)"
   ]
  },
  {
   "cell_type": "code",
   "execution_count": null,
   "id": "567182f9",
   "metadata": {
    "ExecuteTime": {
     "start_time": "2022-05-10T09:03:06.611Z"
    },
    "scrolled": false
   },
   "outputs": [],
   "source": [
    "display_np_ndarray_shape_size_3_multi(\n",
    "    (\n",
    "        np_ndarray_original,\n",
    "        np_ndarray_segmentation_lungmask,\n",
    "        np_ndarray_lung_extracted_ct_lung_seg,\n",
    "        np_ndarray_segmentation_lung_ct_lung_seg\n",
    "    ),\n",
    "    20\n",
    ")"
   ]
  }
 ],
 "metadata": {
  "kernelspec": {
   "display_name": "Python 3.8.12 64-bit Anaconda (ITK | Biomedical)",
   "language": "python",
   "name": "env_conda_38_itk"
  },
  "language_info": {
   "codemirror_mode": {
    "name": "ipython",
    "version": 3
   },
   "file_extension": ".py",
   "mimetype": "text/x-python",
   "name": "python",
   "nbconvert_exporter": "python",
   "pygments_lexer": "ipython3",
   "version": "3.8.12"
  }
 },
 "nbformat": 4,
 "nbformat_minor": 5
}
